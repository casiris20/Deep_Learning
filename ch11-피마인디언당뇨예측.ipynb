{
 "cells": [
  {
   "cell_type": "code",
   "execution_count": 3,
   "metadata": {},
   "outputs": [],
   "source": [
    "# 딥러닝을 구동하는 데 필요한 케라스 함수를 불러옵니다.\n",
    "from tensorflow.keras.models import Sequential\n",
    "from tensorflow.keras.layers import Dense\n",
    "\n",
    "# 필요한 라이브러리를 불러옵니다.\n",
    "import numpy as np\n",
    "import tensorflow as tf\n",
    "import pandas as pd\n",
    "\n",
    "# 실행할 때마다 같은 결과를 출력하기 위해 설정하는 부분입니다.\n",
    "numpy.random.seed(3)\n",
    "tf.random.set_seed(3)"
   ]
  },
  {
   "cell_type": "markdown",
   "metadata": {},
   "source": [
    "## 1. 데이터 읽어오기"
   ]
  },
  {
   "cell_type": "code",
   "execution_count": 4,
   "metadata": {},
   "outputs": [
    {
     "data": {
      "text/plain": [
       "array([[  6.   , 148.   ,  72.   , ...,   0.627,  50.   ,   1.   ],\n",
       "       [  1.   ,  85.   ,  66.   , ...,   0.351,  31.   ,   0.   ],\n",
       "       [  8.   , 183.   ,  64.   , ...,   0.672,  32.   ,   1.   ],\n",
       "       ...,\n",
       "       [  5.   , 121.   ,  72.   , ...,   0.245,  30.   ,   0.   ],\n",
       "       [  1.   , 126.   ,  60.   , ...,   0.349,  47.   ,   1.   ],\n",
       "       [  1.   ,  93.   ,  70.   , ...,   0.315,  23.   ,   0.   ]])"
      ]
     },
     "execution_count": 4,
     "metadata": {},
     "output_type": "execute_result"
    }
   ],
   "source": [
    "Data_set = np.loadtxt(\"dataset/pima-indians-diabetes.csv\", delimiter=\",\")\n",
    "Data_set"
   ]
  },
  {
   "cell_type": "markdown",
   "metadata": {},
   "source": [
    "## 2. 데이터 전처리"
   ]
  },
  {
   "cell_type": "code",
   "execution_count": 8,
   "metadata": {},
   "outputs": [
    {
     "data": {
      "text/plain": [
       "array([[  6.   , 148.   ,  72.   , ...,  33.6  ,   0.627,  50.   ],\n",
       "       [  1.   ,  85.   ,  66.   , ...,  26.6  ,   0.351,  31.   ],\n",
       "       [  8.   , 183.   ,  64.   , ...,  23.3  ,   0.672,  32.   ],\n",
       "       ...,\n",
       "       [  5.   , 121.   ,  72.   , ...,  26.2  ,   0.245,  30.   ],\n",
       "       [  1.   , 126.   ,  60.   , ...,  30.1  ,   0.349,  47.   ],\n",
       "       [  1.   ,  93.   ,  70.   , ...,  30.4  ,   0.315,  23.   ]])"
      ]
     },
     "execution_count": 8,
     "metadata": {},
     "output_type": "execute_result"
    }
   ],
   "source": [
    "X = Data_set[:,0:8]\n",
    "Y = Data_set[:,8]"
   ]
  },
  {
   "cell_type": "markdown",
   "metadata": {},
   "source": [
    "## 3. 모델 설계"
   ]
  },
  {
   "cell_type": "markdown",
   "metadata": {},
   "source": [
    "입력  -  12 (by relu)  -   8 (by relu) -  출력(by sigmoid)"
   ]
  },
  {
   "cell_type": "code",
   "execution_count": 14,
   "metadata": {},
   "outputs": [],
   "source": [
    "model = Sequential()\n",
    "\n",
    "model.add(Dense(12, input_dim=8, activation='relu'))\n",
    "## 은닉층 2개, 입력 8개로 먼저 넣어보았고\n",
    "\n",
    "model.add(Dense(8,  activation='relu'))\n",
    "## 다음 구간은 8개라고 되어 있어서 Dense 8 해보았다.\n",
    "\n",
    "\n",
    "model.add(Dense(1, activation='sigmoid'))\n",
    "\n"
   ]
  },
  {
   "cell_type": "markdown",
   "metadata": {},
   "source": [
    "## 4. 모델 컴파일"
   ]
  },
  {
   "cell_type": "code",
   "execution_count": 18,
   "metadata": {},
   "outputs": [],
   "source": [
    "model.compile(loss='binary_crossentropy', optimizer='adam', metrics=['accuracy'])\n",
    "## 0 or 1의 문제 해결이기 때문에 binary 체크 함수 사용함!!!\n",
    "\n",
    "##model.compile(loss='mean_squared_error', optimizer='adam', metrics=['accuracy'])"
   ]
  },
  {
   "cell_type": "markdown",
   "metadata": {},
   "source": [
    "## 5. 학습"
   ]
  },
  {
   "cell_type": "code",
   "execution_count": 20,
   "metadata": {},
   "outputs": [
    {
     "name": "stdout",
     "output_type": "stream",
     "text": [
      "Epoch 1/100\n",
      "52/52 [==============================] - 0s 1ms/step - loss: 0.4355 - accuracy: 0.7930\n",
      "Epoch 2/100\n",
      "52/52 [==============================] - 0s 871us/step - loss: 0.4367 - accuracy: 0.7982\n",
      "Epoch 3/100\n",
      "52/52 [==============================] - 0s 846us/step - loss: 0.4350 - accuracy: 0.7904\n",
      "Epoch 4/100\n",
      "52/52 [==============================] - 0s 1ms/step - loss: 0.4382 - accuracy: 0.7904\n",
      "Epoch 5/100\n",
      "52/52 [==============================] - 0s 994us/step - loss: 0.4353 - accuracy: 0.7930\n",
      "Epoch 6/100\n",
      "52/52 [==============================] - 0s 886us/step - loss: 0.4387 - accuracy: 0.7904\n",
      "Epoch 7/100\n",
      "52/52 [==============================] - 0s 809us/step - loss: 0.4500 - accuracy: 0.7773\n",
      "Epoch 8/100\n",
      "52/52 [==============================] - 0s 498us/step - loss: 0.4409 - accuracy: 0.7891\n",
      "Epoch 9/100\n",
      "52/52 [==============================] - 0s 958us/step - loss: 0.4347 - accuracy: 0.7995\n",
      "Epoch 10/100\n",
      "52/52 [==============================] - 0s 826us/step - loss: 0.4425 - accuracy: 0.7852\n",
      "Epoch 11/100\n",
      "52/52 [==============================] - 0s 854us/step - loss: 0.4340 - accuracy: 0.7982\n",
      "Epoch 12/100\n",
      "52/52 [==============================] - 0s 874us/step - loss: 0.4364 - accuracy: 0.7943\n",
      "Epoch 13/100\n",
      "52/52 [==============================] - 0s 888us/step - loss: 0.4419 - accuracy: 0.7878\n",
      "Epoch 14/100\n",
      "52/52 [==============================] - 0s 950us/step - loss: 0.4357 - accuracy: 0.7852\n",
      "Epoch 15/100\n",
      "52/52 [==============================] - 0s 809us/step - loss: 0.4398 - accuracy: 0.7956\n",
      "Epoch 16/100\n",
      "52/52 [==============================] - 0s 866us/step - loss: 0.4342 - accuracy: 0.7917\n",
      "Epoch 17/100\n",
      "52/52 [==============================] - 0s 820us/step - loss: 0.4487 - accuracy: 0.7852\n",
      "Epoch 18/100\n",
      "52/52 [==============================] - 0s 795us/step - loss: 0.4375 - accuracy: 0.7956\n",
      "Epoch 19/100\n",
      "52/52 [==============================] - 0s 956us/step - loss: 0.4397 - accuracy: 0.7930\n",
      "Epoch 20/100\n",
      "52/52 [==============================] - 0s 819us/step - loss: 0.4418 - accuracy: 0.7956\n",
      "Epoch 21/100\n",
      "52/52 [==============================] - 0s 750us/step - loss: 0.4372 - accuracy: 0.7943\n",
      "Epoch 22/100\n",
      "52/52 [==============================] - 0s 811us/step - loss: 0.4398 - accuracy: 0.7878\n",
      "Epoch 23/100\n",
      "52/52 [==============================] - 0s 788us/step - loss: 0.4453 - accuracy: 0.7943\n",
      "Epoch 24/100\n",
      "52/52 [==============================] - 0s 887us/step - loss: 0.4358 - accuracy: 0.7878\n",
      "Epoch 25/100\n",
      "52/52 [==============================] - 0s 951us/step - loss: 0.4357 - accuracy: 0.7943\n",
      "Epoch 26/100\n",
      "52/52 [==============================] - 0s 866us/step - loss: 0.4362 - accuracy: 0.7943\n",
      "Epoch 27/100\n",
      "52/52 [==============================] - 0s 866us/step - loss: 0.4465 - accuracy: 0.7799\n",
      "Epoch 28/100\n",
      "52/52 [==============================] - 0s 806us/step - loss: 0.4349 - accuracy: 0.7865\n",
      "Epoch 29/100\n",
      "52/52 [==============================] - 0s 487us/step - loss: 0.4336 - accuracy: 0.7956\n",
      "Epoch 30/100\n",
      "52/52 [==============================] - 0s 776us/step - loss: 0.4350 - accuracy: 0.7904\n",
      "Epoch 31/100\n",
      "52/52 [==============================] - 0s 799us/step - loss: 0.4356 - accuracy: 0.7891\n",
      "Epoch 32/100\n",
      "52/52 [==============================] - 0s 789us/step - loss: 0.4336 - accuracy: 0.7930\n",
      "Epoch 33/100\n",
      "52/52 [==============================] - 0s 808us/step - loss: 0.4392 - accuracy: 0.7865\n",
      "Epoch 34/100\n",
      "52/52 [==============================] - 0s 794us/step - loss: 0.4342 - accuracy: 0.7865\n",
      "Epoch 35/100\n",
      "52/52 [==============================] - 0s 845us/step - loss: 0.4384 - accuracy: 0.7865\n",
      "Epoch 36/100\n",
      "52/52 [==============================] - 0s 750us/step - loss: 0.4414 - accuracy: 0.7826\n",
      "Epoch 37/100\n",
      "52/52 [==============================] - 0s 878us/step - loss: 0.4347 - accuracy: 0.7982\n",
      "Epoch 38/100\n",
      "52/52 [==============================] - 0s 808us/step - loss: 0.4329 - accuracy: 0.7865\n",
      "Epoch 39/100\n",
      "52/52 [==============================] - 0s 768us/step - loss: 0.4418 - accuracy: 0.7786\n",
      "Epoch 40/100\n",
      "52/52 [==============================] - 0s 890us/step - loss: 0.4368 - accuracy: 0.7969\n",
      "Epoch 41/100\n",
      "52/52 [==============================] - 0s 846us/step - loss: 0.4346 - accuracy: 0.7956\n",
      "Epoch 42/100\n",
      "52/52 [==============================] - 0s 697us/step - loss: 0.4360 - accuracy: 0.7891\n",
      "Epoch 43/100\n",
      "52/52 [==============================] - 0s 847us/step - loss: 0.4403 - accuracy: 0.7852\n",
      "Epoch 44/100\n",
      "52/52 [==============================] - 0s 890us/step - loss: 0.4318 - accuracy: 0.7917\n",
      "Epoch 45/100\n",
      "52/52 [==============================] - 0s 768us/step - loss: 0.4536 - accuracy: 0.7747\n",
      "Epoch 46/100\n",
      "52/52 [==============================] - 0s 917us/step - loss: 0.4442 - accuracy: 0.7852\n",
      "Epoch 47/100\n",
      "52/52 [==============================] - 0s 960us/step - loss: 0.4351 - accuracy: 0.7917\n",
      "Epoch 48/100\n",
      "52/52 [==============================] - 0s 906us/step - loss: 0.4331 - accuracy: 0.7878\n",
      "Epoch 49/100\n",
      "52/52 [==============================] - 0s 836us/step - loss: 0.4356 - accuracy: 0.7826\n",
      "Epoch 50/100\n",
      "52/52 [==============================] - 0s 790us/step - loss: 0.4407 - accuracy: 0.7839\n",
      "Epoch 51/100\n",
      "52/52 [==============================] - 0s 605us/step - loss: 0.4309 - accuracy: 0.7995\n",
      "Epoch 52/100\n",
      "52/52 [==============================] - 0s 788us/step - loss: 0.4363 - accuracy: 0.7865\n",
      "Epoch 53/100\n",
      "52/52 [==============================] - 0s 853us/step - loss: 0.4354 - accuracy: 0.7917\n",
      "Epoch 54/100\n",
      "52/52 [==============================] - 0s 827us/step - loss: 0.4360 - accuracy: 0.7891\n",
      "Epoch 55/100\n",
      "52/52 [==============================] - 0s 761us/step - loss: 0.4341 - accuracy: 0.8060\n",
      "Epoch 56/100\n",
      "52/52 [==============================] - 0s 789us/step - loss: 0.4381 - accuracy: 0.7943\n",
      "Epoch 57/100\n",
      "52/52 [==============================] - 0s 824us/step - loss: 0.4366 - accuracy: 0.7852\n",
      "Epoch 58/100\n",
      "52/52 [==============================] - 0s 759us/step - loss: 0.4381 - accuracy: 0.7826\n",
      "Epoch 59/100\n",
      "52/52 [==============================] - 0s 750us/step - loss: 0.4325 - accuracy: 0.7865\n",
      "Epoch 60/100\n",
      "52/52 [==============================] - 0s 940us/step - loss: 0.4356 - accuracy: 0.7930\n",
      "Epoch 61/100\n",
      "52/52 [==============================] - 0s 1ms/step - loss: 0.4365 - accuracy: 0.7891\n",
      "Epoch 62/100\n",
      "52/52 [==============================] - 0s 1ms/step - loss: 0.4353 - accuracy: 0.7904\n",
      "Epoch 63/100\n",
      "52/52 [==============================] - 0s 1ms/step - loss: 0.4357 - accuracy: 0.7891\n",
      "Epoch 64/100\n",
      "52/52 [==============================] - 0s 1ms/step - loss: 0.4323 - accuracy: 0.7969\n",
      "Epoch 65/100\n",
      "52/52 [==============================] - 0s 1ms/step - loss: 0.4388 - accuracy: 0.7943\n",
      "Epoch 66/100\n",
      "52/52 [==============================] - 0s 1ms/step - loss: 0.4379 - accuracy: 0.7930\n",
      "Epoch 67/100\n",
      "52/52 [==============================] - 0s 1ms/step - loss: 0.4344 - accuracy: 0.7812\n",
      "Epoch 68/100\n",
      "52/52 [==============================] - 0s 914us/step - loss: 0.4398 - accuracy: 0.7865\n",
      "Epoch 69/100\n",
      "52/52 [==============================] - 0s 1ms/step - loss: 0.4391 - accuracy: 0.7917\n",
      "Epoch 70/100\n",
      "52/52 [==============================] - 0s 829us/step - loss: 0.4368 - accuracy: 0.7930\n",
      "Epoch 71/100\n",
      "52/52 [==============================] - 0s 865us/step - loss: 0.4352 - accuracy: 0.7930\n",
      "Epoch 72/100\n",
      "52/52 [==============================] - 0s 846us/step - loss: 0.4338 - accuracy: 0.7969\n",
      "Epoch 73/100\n",
      "52/52 [==============================] - 0s 769us/step - loss: 0.4329 - accuracy: 0.7982\n",
      "Epoch 74/100\n",
      "52/52 [==============================] - 0s 731us/step - loss: 0.4386 - accuracy: 0.7995\n",
      "Epoch 75/100\n",
      "52/52 [==============================] - 0s 823us/step - loss: 0.4388 - accuracy: 0.8008\n",
      "Epoch 76/100\n",
      "52/52 [==============================] - 0s 755us/step - loss: 0.4335 - accuracy: 0.8060\n",
      "Epoch 77/100\n",
      "52/52 [==============================] - 0s 805us/step - loss: 0.4333 - accuracy: 0.7904\n",
      "Epoch 78/100\n",
      "52/52 [==============================] - 0s 1ms/step - loss: 0.4362 - accuracy: 0.7956\n",
      "Epoch 79/100\n",
      "52/52 [==============================] - 0s 1ms/step - loss: 0.4315 - accuracy: 0.8034\n",
      "Epoch 80/100\n",
      "52/52 [==============================] - 0s 778us/step - loss: 0.4306 - accuracy: 0.7943\n",
      "Epoch 81/100\n"
     ]
    },
    {
     "name": "stdout",
     "output_type": "stream",
     "text": [
      "52/52 [==============================] - 0s 905us/step - loss: 0.4392 - accuracy: 0.7852\n",
      "Epoch 82/100\n",
      "52/52 [==============================] - 0s 716us/step - loss: 0.4261 - accuracy: 0.7995\n",
      "Epoch 83/100\n",
      "52/52 [==============================] - 0s 744us/step - loss: 0.4371 - accuracy: 0.7943\n",
      "Epoch 84/100\n",
      "52/52 [==============================] - 0s 930us/step - loss: 0.4341 - accuracy: 0.7904\n",
      "Epoch 85/100\n",
      "52/52 [==============================] - 0s 760us/step - loss: 0.4319 - accuracy: 0.7956\n",
      "Epoch 86/100\n",
      "52/52 [==============================] - 0s 761us/step - loss: 0.4313 - accuracy: 0.7982\n",
      "Epoch 87/100\n",
      "52/52 [==============================] - 0s 785us/step - loss: 0.4339 - accuracy: 0.7969\n",
      "Epoch 88/100\n",
      "52/52 [==============================] - 0s 692us/step - loss: 0.4379 - accuracy: 0.7812\n",
      "Epoch 89/100\n",
      "52/52 [==============================] - 0s 732us/step - loss: 0.4348 - accuracy: 0.7982\n",
      "Epoch 90/100\n",
      "52/52 [==============================] - 0s 712us/step - loss: 0.4394 - accuracy: 0.7904\n",
      "Epoch 91/100\n",
      "52/52 [==============================] - 0s 729us/step - loss: 0.4383 - accuracy: 0.7969\n",
      "Epoch 92/100\n",
      "52/52 [==============================] - 0s 721us/step - loss: 0.4386 - accuracy: 0.7943\n",
      "Epoch 93/100\n",
      "52/52 [==============================] - 0s 682us/step - loss: 0.4271 - accuracy: 0.7995\n",
      "Epoch 94/100\n",
      "52/52 [==============================] - 0s 732us/step - loss: 0.4251 - accuracy: 0.7982\n",
      "Epoch 95/100\n",
      "52/52 [==============================] - 0s 867us/step - loss: 0.4508 - accuracy: 0.7904\n",
      "Epoch 96/100\n",
      "52/52 [==============================] - 0s 792us/step - loss: 0.4308 - accuracy: 0.7995\n",
      "Epoch 97/100\n",
      "52/52 [==============================] - 0s 809us/step - loss: 0.4274 - accuracy: 0.7969\n",
      "Epoch 98/100\n",
      "52/52 [==============================] - 0s 731us/step - loss: 0.4338 - accuracy: 0.7956\n",
      "Epoch 99/100\n",
      "52/52 [==============================] - 0s 747us/step - loss: 0.4291 - accuracy: 0.7982\n",
      "Epoch 100/100\n",
      "52/52 [==============================] - 0s 673us/step - loss: 0.4318 - accuracy: 0.7956\n"
     ]
    },
    {
     "data": {
      "text/plain": [
       "<tensorflow.python.keras.callbacks.History at 0x26bd4c04348>"
      ]
     },
     "execution_count": 20,
     "metadata": {},
     "output_type": "execute_result"
    }
   ],
   "source": [
    "model.fit(X, Y, epochs=100, batch_size=15)"
   ]
  },
  {
   "cell_type": "code",
   "execution_count": 21,
   "metadata": {},
   "outputs": [
    {
     "name": "stdout",
     "output_type": "stream",
     "text": [
      "Model: \"sequential_1\"\n",
      "_________________________________________________________________\n",
      "Layer (type)                 Output Shape              Param #   \n",
      "=================================================================\n",
      "dense_3 (Dense)              (None, 12)                108       \n",
      "_________________________________________________________________\n",
      "dense_4 (Dense)              (None, 8)                 104       \n",
      "_________________________________________________________________\n",
      "dense_5 (Dense)              (None, 1)                 9         \n",
      "=================================================================\n",
      "Total params: 221\n",
      "Trainable params: 221\n",
      "Non-trainable params: 0\n",
      "_________________________________________________________________\n"
     ]
    }
   ],
   "source": [
    "model.summary()"
   ]
  },
  {
   "cell_type": "code",
   "execution_count": 22,
   "metadata": {},
   "outputs": [
    {
     "name": "stdout",
     "output_type": "stream",
     "text": [
      "24/24 [==============================] - 0s 1ms/step - loss: 0.4199 - accuracy: 0.8073\n",
      "\n",
      " Accuracy : 0.8073\n"
     ]
    }
   ],
   "source": [
    "print(\"\\n Accuracy : %.4f\" % (model.evaluate(X,Y)[1]))"
   ]
  },
  {
   "cell_type": "code",
   "execution_count": null,
   "metadata": {},
   "outputs": [],
   "source": []
  }
 ],
 "metadata": {
  "kernelspec": {
   "display_name": "Python 3",
   "language": "python",
   "name": "python3"
  },
  "language_info": {
   "codemirror_mode": {
    "name": "ipython",
    "version": 3
   },
   "file_extension": ".py",
   "mimetype": "text/x-python",
   "name": "python",
   "nbconvert_exporter": "python",
   "pygments_lexer": "ipython3",
   "version": "3.7.6"
  },
  "toc": {
   "base_numbering": 1,
   "nav_menu": {},
   "number_sections": false,
   "sideBar": true,
   "skip_h1_title": false,
   "title_cell": "Table of Contents",
   "title_sidebar": "Contents",
   "toc_cell": false,
   "toc_position": {},
   "toc_section_display": true,
   "toc_window_display": true
  }
 },
 "nbformat": 4,
 "nbformat_minor": 4
}
