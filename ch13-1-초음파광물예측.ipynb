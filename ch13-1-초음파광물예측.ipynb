{
 "cells": [
  {
   "cell_type": "code",
   "execution_count": 28,
   "metadata": {},
   "outputs": [],
   "source": [
    "from keras.models import Sequential\n",
    "from keras.layers.core import Dense\n",
    "from sklearn.preprocessing import LabelEncoder\n",
    "from sklearn.model_selection import StratifiedKFold\n",
    "\n",
    "import numpy\n",
    "import pandas as pd\n",
    "import tensorflow as tf\n",
    "\n",
    "# seed 값 설정\n",
    "seed = 0\n",
    "numpy.random.seed(seed)\n",
    "tf.random.set_seed(3)"
   ]
  },
  {
   "cell_type": "markdown",
   "metadata": {},
   "source": [
    "## 1. 데이터 읽어오기"
   ]
  },
  {
   "cell_type": "code",
   "execution_count": 29,
   "metadata": {},
   "outputs": [],
   "source": [
    "df = pd.read_csv('dataset/sonar.csv', header = None)"
   ]
  },
  {
   "cell_type": "markdown",
   "metadata": {},
   "source": [
    "## 2. 데이터 전처리"
   ]
  },
  {
   "cell_type": "code",
   "execution_count": 39,
   "metadata": {},
   "outputs": [
    {
     "data": {
      "text/plain": [
       "array(['R', 'R', 'R', 'R', 'R', 'R', 'R', 'R', 'R', 'R', 'R', 'R', 'R',\n",
       "       'R', 'R', 'R', 'R', 'R', 'R', 'R', 'R', 'R', 'R', 'R', 'R', 'R',\n",
       "       'R', 'R', 'R', 'R', 'R', 'R', 'R', 'R', 'R', 'R', 'R', 'R', 'R',\n",
       "       'R', 'R', 'R', 'R', 'R', 'R', 'R', 'R', 'R', 'R', 'R', 'R', 'R',\n",
       "       'R', 'R', 'R', 'R', 'R', 'R', 'R', 'R', 'R', 'R', 'R', 'R', 'R',\n",
       "       'R', 'R', 'R', 'R', 'R', 'R', 'R', 'R', 'R', 'R', 'R', 'R', 'R',\n",
       "       'R', 'R', 'R', 'R', 'R', 'R', 'R', 'R', 'R', 'R', 'R', 'R', 'R',\n",
       "       'R', 'R', 'R', 'R', 'R', 'R', 'M', 'M', 'M', 'M', 'M', 'M', 'M',\n",
       "       'M', 'M', 'M', 'M', 'M', 'M', 'M', 'M', 'M', 'M', 'M', 'M', 'M',\n",
       "       'M', 'M', 'M', 'M', 'M', 'M', 'M', 'M', 'M', 'M', 'M', 'M', 'M',\n",
       "       'M', 'M', 'M', 'M', 'M', 'M', 'M', 'M', 'M', 'M', 'M', 'M', 'M',\n",
       "       'M', 'M', 'M', 'M', 'M', 'M', 'M', 'M', 'M', 'M', 'M', 'M', 'M',\n",
       "       'M', 'M', 'M', 'M', 'M', 'M', 'M', 'M', 'M', 'M', 'M', 'M', 'M',\n",
       "       'M', 'M', 'M', 'M', 'M', 'M', 'M', 'M', 'M', 'M', 'M', 'M', 'M',\n",
       "       'M', 'M', 'M', 'M', 'M', 'M', 'M', 'M', 'M', 'M', 'M', 'M', 'M',\n",
       "       'M', 'M', 'M', 'M', 'M', 'M', 'M', 'M', 'M', 'M', 'M', 'M', 'M'],\n",
       "      dtype=object)"
      ]
     },
     "execution_count": 39,
     "metadata": {},
     "output_type": "execute_result"
    }
   ],
   "source": [
    "data_set = df.values\n",
    "X=data_set[:,0:-1].astype(float) ##np 형태에서 error 발생. .astype(float) 이용해야함\n",
    "\n",
    "Y_obj = data_set[:,-1]\n",
    "Y_obj"
   ]
  },
  {
   "cell_type": "code",
   "execution_count": 40,
   "metadata": {},
   "outputs": [
    {
     "data": {
      "text/plain": [
       "array([1, 1, 1, 1, 1, 1, 1, 1, 1, 1, 1, 1, 1, 1, 1, 1, 1, 1, 1, 1, 1, 1,\n",
       "       1, 1, 1, 1, 1, 1, 1, 1, 1, 1, 1, 1, 1, 1, 1, 1, 1, 1, 1, 1, 1, 1,\n",
       "       1, 1, 1, 1, 1, 1, 1, 1, 1, 1, 1, 1, 1, 1, 1, 1, 1, 1, 1, 1, 1, 1,\n",
       "       1, 1, 1, 1, 1, 1, 1, 1, 1, 1, 1, 1, 1, 1, 1, 1, 1, 1, 1, 1, 1, 1,\n",
       "       1, 1, 1, 1, 1, 1, 1, 1, 1, 0, 0, 0, 0, 0, 0, 0, 0, 0, 0, 0, 0, 0,\n",
       "       0, 0, 0, 0, 0, 0, 0, 0, 0, 0, 0, 0, 0, 0, 0, 0, 0, 0, 0, 0, 0, 0,\n",
       "       0, 0, 0, 0, 0, 0, 0, 0, 0, 0, 0, 0, 0, 0, 0, 0, 0, 0, 0, 0, 0, 0,\n",
       "       0, 0, 0, 0, 0, 0, 0, 0, 0, 0, 0, 0, 0, 0, 0, 0, 0, 0, 0, 0, 0, 0,\n",
       "       0, 0, 0, 0, 0, 0, 0, 0, 0, 0, 0, 0, 0, 0, 0, 0, 0, 0, 0, 0, 0, 0,\n",
       "       0, 0, 0, 0, 0, 0, 0, 0, 0, 0])"
      ]
     },
     "execution_count": 40,
     "metadata": {},
     "output_type": "execute_result"
    }
   ],
   "source": [
    "# 문자열 변환\n",
    "e = LabelEncoder()\n",
    "e.fit(Y_obj)\n",
    "Y = e.transform(Y_obj)\n",
    "Y"
   ]
  },
  {
   "cell_type": "code",
   "execution_count": 41,
   "metadata": {},
   "outputs": [],
   "source": [
    "n_fold = 10\n",
    "skf = StratifiedKFold(n_splits=n_fold, shuffle=True, random_state=seed)"
   ]
  },
  {
   "cell_type": "code",
   "execution_count": 42,
   "metadata": {},
   "outputs": [],
   "source": [
    "# 학습셋과 테스트셋을 나눔\n",
    "from sklearn.model_selection import train_test_split\n",
    "X_train, X_test, Y_train, Y_test = train_test_split(X, Y, test_size=0.3, random_state=seed)"
   ]
  },
  {
   "cell_type": "markdown",
   "metadata": {},
   "source": [
    "## 3. 모델 설계"
   ]
  },
  {
   "cell_type": "code",
   "execution_count": 47,
   "metadata": {},
   "outputs": [],
   "source": [
    "model = Sequential()\n",
    "\n",
    "model.add(Dense(24, input_dim=60, activation='relu'))\n",
    "\n",
    "model.add(Dense(10,  activation='relu'))\n",
    "\n",
    "model.add(Dense(1, activation='sigmoid'))"
   ]
  },
  {
   "cell_type": "markdown",
   "metadata": {},
   "source": [
    "## 4. 모델 컴파일"
   ]
  },
  {
   "cell_type": "code",
   "execution_count": 48,
   "metadata": {},
   "outputs": [],
   "source": [
    "model.compile(loss='binary_crossentropy', optimizer='adam', metrics=['accuracy'])"
   ]
  },
  {
   "cell_type": "markdown",
   "metadata": {},
   "source": [
    "## 5. 학습"
   ]
  },
  {
   "cell_type": "code",
   "execution_count": 49,
   "metadata": {},
   "outputs": [
    {
     "name": "stdout",
     "output_type": "stream",
     "text": [
      "Epoch 1/130\n",
      "29/29 [==============================] - 0s 1ms/step - loss: 0.7209 - accuracy: 0.4759\n",
      "Epoch 2/130\n",
      "29/29 [==============================] - 0s 1ms/step - loss: 0.6813 - accuracy: 0.5586\n",
      "Epoch 3/130\n",
      "29/29 [==============================] - 0s 905us/step - loss: 0.6695 - accuracy: 0.6552\n",
      "Epoch 4/130\n",
      "29/29 [==============================] - 0s 852us/step - loss: 0.6553 - accuracy: 0.6966\n",
      "Epoch 5/130\n",
      "29/29 [==============================] - 0s 914us/step - loss: 0.6453 - accuracy: 0.7103\n",
      "Epoch 6/130\n",
      "29/29 [==============================] - 0s 806us/step - loss: 0.6337 - accuracy: 0.6897\n",
      "Epoch 7/130\n",
      "29/29 [==============================] - 0s 831us/step - loss: 0.6218 - accuracy: 0.7034\n",
      "Epoch 8/130\n",
      "29/29 [==============================] - 0s 993us/step - loss: 0.6097 - accuracy: 0.7379\n",
      "Epoch 9/130\n",
      "29/29 [==============================] - 0s 933us/step - loss: 0.5989 - accuracy: 0.7172\n",
      "Epoch 10/130\n",
      "29/29 [==============================] - 0s 919us/step - loss: 0.5859 - accuracy: 0.7517\n",
      "Epoch 11/130\n",
      "29/29 [==============================] - 0s 866us/step - loss: 0.5708 - accuracy: 0.7931\n",
      "Epoch 12/130\n",
      "29/29 [==============================] - 0s 849us/step - loss: 0.5569 - accuracy: 0.7724\n",
      "Epoch 13/130\n",
      "29/29 [==============================] - 0s 1ms/step - loss: 0.5432 - accuracy: 0.7379\n",
      "Epoch 14/130\n",
      "29/29 [==============================] - 0s 933us/step - loss: 0.5273 - accuracy: 0.7586\n",
      "Epoch 15/130\n",
      "29/29 [==============================] - 0s 816us/step - loss: 0.5176 - accuracy: 0.7517\n",
      "Epoch 16/130\n",
      "29/29 [==============================] - 0s 834us/step - loss: 0.5003 - accuracy: 0.7724\n",
      "Epoch 17/130\n",
      "29/29 [==============================] - 0s 988us/step - loss: 0.4837 - accuracy: 0.8138\n",
      "Epoch 18/130\n",
      "29/29 [==============================] - 0s 954us/step - loss: 0.4707 - accuracy: 0.7931\n",
      "Epoch 19/130\n",
      "29/29 [==============================] - 0s 967us/step - loss: 0.4675 - accuracy: 0.8069\n",
      "Epoch 20/130\n",
      "29/29 [==============================] - 0s 813us/step - loss: 0.4481 - accuracy: 0.8345\n",
      "Epoch 21/130\n",
      "29/29 [==============================] - 0s 844us/step - loss: 0.4367 - accuracy: 0.8483\n",
      "Epoch 22/130\n",
      "29/29 [==============================] - 0s 1ms/step - loss: 0.4282 - accuracy: 0.8552\n",
      "Epoch 23/130\n",
      "29/29 [==============================] - 0s 941us/step - loss: 0.4203 - accuracy: 0.8552\n",
      "Epoch 24/130\n",
      "29/29 [==============================] - 0s 851us/step - loss: 0.4098 - accuracy: 0.8345\n",
      "Epoch 25/130\n",
      "29/29 [==============================] - 0s 856us/step - loss: 0.4064 - accuracy: 0.8207\n",
      "Epoch 26/130\n",
      "29/29 [==============================] - 0s 869us/step - loss: 0.3961 - accuracy: 0.8552\n",
      "Epoch 27/130\n",
      "29/29 [==============================] - 0s 1ms/step - loss: 0.3898 - accuracy: 0.8345\n",
      "Epoch 28/130\n",
      "29/29 [==============================] - 0s 986us/step - loss: 0.3799 - accuracy: 0.8483\n",
      "Epoch 29/130\n",
      "29/29 [==============================] - 0s 912us/step - loss: 0.3745 - accuracy: 0.8483\n",
      "Epoch 30/130\n",
      "29/29 [==============================] - 0s 793us/step - loss: 0.3760 - accuracy: 0.8621\n",
      "Epoch 31/130\n",
      "29/29 [==============================] - 0s 792us/step - loss: 0.3710 - accuracy: 0.8552\n",
      "Epoch 32/130\n",
      "29/29 [==============================] - 0s 922us/step - loss: 0.3623 - accuracy: 0.8690\n",
      "Epoch 33/130\n",
      "29/29 [==============================] - 0s 837us/step - loss: 0.3542 - accuracy: 0.8690\n",
      "Epoch 34/130\n",
      "29/29 [==============================] - 0s 865us/step - loss: 0.3512 - accuracy: 0.8483\n",
      "Epoch 35/130\n",
      "29/29 [==============================] - 0s 936us/step - loss: 0.3513 - accuracy: 0.8414\n",
      "Epoch 36/130\n",
      "29/29 [==============================] - 0s 1ms/step - loss: 0.3399 - accuracy: 0.8414\n",
      "Epoch 37/130\n",
      "29/29 [==============================] - 0s 952us/step - loss: 0.3362 - accuracy: 0.8690\n",
      "Epoch 38/130\n",
      "29/29 [==============================] - 0s 899us/step - loss: 0.3312 - accuracy: 0.8621\n",
      "Epoch 39/130\n",
      "29/29 [==============================] - 0s 872us/step - loss: 0.3252 - accuracy: 0.8690\n",
      "Epoch 40/130\n",
      "29/29 [==============================] - 0s 797us/step - loss: 0.3334 - accuracy: 0.8690\n",
      "Epoch 41/130\n",
      "29/29 [==============================] - 0s 973us/step - loss: 0.3255 - accuracy: 0.8828\n",
      "Epoch 42/130\n",
      "29/29 [==============================] - 0s 881us/step - loss: 0.3191 - accuracy: 0.8621\n",
      "Epoch 43/130\n",
      "29/29 [==============================] - 0s 825us/step - loss: 0.3183 - accuracy: 0.8483\n",
      "Epoch 44/130\n",
      "29/29 [==============================] - 0s 852us/step - loss: 0.3116 - accuracy: 0.8759\n",
      "Epoch 45/130\n",
      "29/29 [==============================] - 0s 996us/step - loss: 0.3028 - accuracy: 0.8897\n",
      "Epoch 46/130\n",
      "29/29 [==============================] - 0s 1ms/step - loss: 0.3012 - accuracy: 0.8828\n",
      "Epoch 47/130\n",
      "29/29 [==============================] - 0s 991us/step - loss: 0.2978 - accuracy: 0.8690\n",
      "Epoch 48/130\n",
      "29/29 [==============================] - 0s 940us/step - loss: 0.2915 - accuracy: 0.8759\n",
      "Epoch 49/130\n",
      "29/29 [==============================] - 0s 976us/step - loss: 0.2884 - accuracy: 0.8828\n",
      "Epoch 50/130\n",
      "29/29 [==============================] - 0s 1ms/step - loss: 0.2904 - accuracy: 0.9034\n",
      "Epoch 51/130\n",
      "29/29 [==============================] - 0s 1ms/step - loss: 0.2844 - accuracy: 0.8897\n",
      "Epoch 52/130\n",
      "29/29 [==============================] - 0s 943us/step - loss: 0.2807 - accuracy: 0.8828\n",
      "Epoch 53/130\n",
      "29/29 [==============================] - 0s 841us/step - loss: 0.2799 - accuracy: 0.9034\n",
      "Epoch 54/130\n",
      "29/29 [==============================] - 0s 806us/step - loss: 0.2724 - accuracy: 0.8966\n",
      "Epoch 55/130\n",
      "29/29 [==============================] - 0s 1ms/step - loss: 0.2758 - accuracy: 0.8897\n",
      "Epoch 56/130\n",
      "29/29 [==============================] - 0s 1ms/step - loss: 0.2689 - accuracy: 0.8966\n",
      "Epoch 57/130\n",
      "29/29 [==============================] - 0s 1ms/step - loss: 0.2763 - accuracy: 0.8759\n",
      "Epoch 58/130\n",
      "29/29 [==============================] - 0s 1ms/step - loss: 0.2643 - accuracy: 0.8966\n",
      "Epoch 59/130\n",
      "29/29 [==============================] - 0s 1ms/step - loss: 0.2588 - accuracy: 0.8966\n",
      "Epoch 60/130\n",
      "29/29 [==============================] - 0s 1ms/step - loss: 0.2544 - accuracy: 0.9172\n",
      "Epoch 61/130\n",
      "29/29 [==============================] - 0s 864us/step - loss: 0.2513 - accuracy: 0.9034\n",
      "Epoch 62/130\n",
      "29/29 [==============================] - 0s 896us/step - loss: 0.2491 - accuracy: 0.9103\n",
      "Epoch 63/130\n",
      "29/29 [==============================] - 0s 790us/step - loss: 0.2481 - accuracy: 0.9172\n",
      "Epoch 64/130\n",
      "29/29 [==============================] - 0s 981us/step - loss: 0.2388 - accuracy: 0.9172\n",
      "Epoch 65/130\n",
      "29/29 [==============================] - 0s 951us/step - loss: 0.2466 - accuracy: 0.9034\n",
      "Epoch 66/130\n",
      "29/29 [==============================] - 0s 1ms/step - loss: 0.2382 - accuracy: 0.9103\n",
      "Epoch 67/130\n",
      "29/29 [==============================] - 0s 933us/step - loss: 0.2293 - accuracy: 0.9241\n",
      "Epoch 68/130\n",
      "29/29 [==============================] - 0s 835us/step - loss: 0.2356 - accuracy: 0.8966\n",
      "Epoch 69/130\n",
      "29/29 [==============================] - 0s 891us/step - loss: 0.2292 - accuracy: 0.9103\n",
      "Epoch 70/130\n",
      "29/29 [==============================] - 0s 862us/step - loss: 0.2467 - accuracy: 0.9034\n",
      "Epoch 71/130\n",
      "29/29 [==============================] - 0s 1ms/step - loss: 0.2205 - accuracy: 0.9034\n",
      "Epoch 72/130\n",
      "29/29 [==============================] - 0s 1ms/step - loss: 0.2260 - accuracy: 0.9034\n",
      "Epoch 73/130\n",
      "29/29 [==============================] - 0s 995us/step - loss: 0.2309 - accuracy: 0.9034\n",
      "Epoch 74/130\n",
      "29/29 [==============================] - 0s 987us/step - loss: 0.2235 - accuracy: 0.9172\n",
      "Epoch 75/130\n",
      "29/29 [==============================] - 0s 969us/step - loss: 0.2164 - accuracy: 0.9103\n",
      "Epoch 76/130\n",
      "29/29 [==============================] - 0s 1ms/step - loss: 0.2227 - accuracy: 0.9172\n",
      "Epoch 77/130\n",
      "29/29 [==============================] - 0s 1ms/step - loss: 0.2143 - accuracy: 0.9172\n",
      "Epoch 78/130\n",
      "29/29 [==============================] - 0s 1ms/step - loss: 0.2073 - accuracy: 0.9172\n",
      "Epoch 79/130\n",
      "29/29 [==============================] - 0s 1ms/step - loss: 0.2072 - accuracy: 0.9310\n",
      "Epoch 80/130\n",
      "29/29 [==============================] - 0s 948us/step - loss: 0.1997 - accuracy: 0.9379\n",
      "Epoch 81/130\n"
     ]
    },
    {
     "name": "stdout",
     "output_type": "stream",
     "text": [
      "29/29 [==============================] - 0s 976us/step - loss: 0.1995 - accuracy: 0.9379\n",
      "Epoch 82/130\n",
      "29/29 [==============================] - 0s 966us/step - loss: 0.2137 - accuracy: 0.9034\n",
      "Epoch 83/130\n",
      "29/29 [==============================] - 0s 845us/step - loss: 0.2121 - accuracy: 0.9172\n",
      "Epoch 84/130\n",
      "29/29 [==============================] - 0s 778us/step - loss: 0.1952 - accuracy: 0.9103\n",
      "Epoch 85/130\n",
      "29/29 [==============================] - 0s 859us/step - loss: 0.1867 - accuracy: 0.9379\n",
      "Epoch 86/130\n",
      "29/29 [==============================] - 0s 768us/step - loss: 0.1800 - accuracy: 0.9517\n",
      "Epoch 87/130\n",
      "29/29 [==============================] - 0s 851us/step - loss: 0.1803 - accuracy: 0.9517\n",
      "Epoch 88/130\n",
      "29/29 [==============================] - 0s 789us/step - loss: 0.1835 - accuracy: 0.9448\n",
      "Epoch 89/130\n",
      "29/29 [==============================] - 0s 778us/step - loss: 0.1753 - accuracy: 0.9517\n",
      "Epoch 90/130\n",
      "29/29 [==============================] - 0s 797us/step - loss: 0.1854 - accuracy: 0.9379\n",
      "Epoch 91/130\n",
      "29/29 [==============================] - 0s 781us/step - loss: 0.1838 - accuracy: 0.9241\n",
      "Epoch 92/130\n",
      "29/29 [==============================] - 0s 847us/step - loss: 0.1781 - accuracy: 0.9448\n",
      "Epoch 93/130\n",
      "29/29 [==============================] - 0s 808us/step - loss: 0.1742 - accuracy: 0.9241\n",
      "Epoch 94/130\n",
      "29/29 [==============================] - 0s 791us/step - loss: 0.1683 - accuracy: 0.9379\n",
      "Epoch 95/130\n",
      "29/29 [==============================] - 0s 796us/step - loss: 0.1597 - accuracy: 0.9379\n",
      "Epoch 96/130\n",
      "29/29 [==============================] - 0s 762us/step - loss: 0.1571 - accuracy: 0.9655\n",
      "Epoch 97/130\n",
      "29/29 [==============================] - 0s 769us/step - loss: 0.1590 - accuracy: 0.9448\n",
      "Epoch 98/130\n",
      "29/29 [==============================] - 0s 806us/step - loss: 0.1564 - accuracy: 0.9448\n",
      "Epoch 99/130\n",
      "29/29 [==============================] - 0s 866us/step - loss: 0.1517 - accuracy: 0.9448\n",
      "Epoch 100/130\n",
      "29/29 [==============================] - 0s 756us/step - loss: 0.1490 - accuracy: 0.9448\n",
      "Epoch 101/130\n",
      "29/29 [==============================] - 0s 815us/step - loss: 0.1465 - accuracy: 0.9517\n",
      "Epoch 102/130\n",
      "29/29 [==============================] - 0s 782us/step - loss: 0.1450 - accuracy: 0.9448\n",
      "Epoch 103/130\n",
      "29/29 [==============================] - 0s 793us/step - loss: 0.1551 - accuracy: 0.9379\n",
      "Epoch 104/130\n",
      "29/29 [==============================] - 0s 874us/step - loss: 0.1427 - accuracy: 0.9448\n",
      "Epoch 105/130\n",
      "29/29 [==============================] - 0s 786us/step - loss: 0.1507 - accuracy: 0.9448\n",
      "Epoch 106/130\n",
      "29/29 [==============================] - 0s 847us/step - loss: 0.1436 - accuracy: 0.9448\n",
      "Epoch 107/130\n",
      "29/29 [==============================] - 0s 801us/step - loss: 0.1398 - accuracy: 0.9517\n",
      "Epoch 108/130\n",
      "29/29 [==============================] - 0s 785us/step - loss: 0.1349 - accuracy: 0.9724\n",
      "Epoch 109/130\n",
      "29/29 [==============================] - 0s 792us/step - loss: 0.1507 - accuracy: 0.9517\n",
      "Epoch 110/130\n",
      "29/29 [==============================] - 0s 778us/step - loss: 0.1419 - accuracy: 0.9655\n",
      "Epoch 111/130\n",
      "29/29 [==============================] - 0s 849us/step - loss: 0.1293 - accuracy: 0.9586\n",
      "Epoch 112/130\n",
      "29/29 [==============================] - 0s 776us/step - loss: 0.1266 - accuracy: 0.9448\n",
      "Epoch 113/130\n",
      "29/29 [==============================] - 0s 767us/step - loss: 0.1228 - accuracy: 0.9586\n",
      "Epoch 114/130\n",
      "29/29 [==============================] - 0s 835us/step - loss: 0.1233 - accuracy: 0.9586\n",
      "Epoch 115/130\n",
      "29/29 [==============================] - 0s 759us/step - loss: 0.1280 - accuracy: 0.9517\n",
      "Epoch 116/130\n",
      "29/29 [==============================] - 0s 807us/step - loss: 0.1197 - accuracy: 0.9655\n",
      "Epoch 117/130\n",
      "29/29 [==============================] - 0s 767us/step - loss: 0.1205 - accuracy: 0.9655\n",
      "Epoch 118/130\n",
      "29/29 [==============================] - 0s 771us/step - loss: 0.1114 - accuracy: 0.9793\n",
      "Epoch 119/130\n",
      "29/29 [==============================] - 0s 835us/step - loss: 0.1124 - accuracy: 0.9655\n",
      "Epoch 120/130\n",
      "29/29 [==============================] - 0s 774us/step - loss: 0.1117 - accuracy: 0.9655\n",
      "Epoch 121/130\n",
      "29/29 [==============================] - 0s 776us/step - loss: 0.1184 - accuracy: 0.9655\n",
      "Epoch 122/130\n",
      "29/29 [==============================] - 0s 803us/step - loss: 0.1097 - accuracy: 0.9586\n",
      "Epoch 123/130\n",
      "29/29 [==============================] - 0s 761us/step - loss: 0.1122 - accuracy: 0.9586\n",
      "Epoch 124/130\n",
      "29/29 [==============================] - 0s 816us/step - loss: 0.1078 - accuracy: 0.9793\n",
      "Epoch 125/130\n",
      "29/29 [==============================] - 0s 833us/step - loss: 0.1113 - accuracy: 0.9586\n",
      "Epoch 126/130\n",
      "29/29 [==============================] - 0s 754us/step - loss: 0.1043 - accuracy: 0.9862\n",
      "Epoch 127/130\n",
      "29/29 [==============================] - 0s 949us/step - loss: 0.1010 - accuracy: 0.9793\n",
      "Epoch 128/130\n",
      "29/29 [==============================] - 0s 870us/step - loss: 0.1000 - accuracy: 0.9862\n",
      "Epoch 129/130\n",
      "29/29 [==============================] - 0s 901us/step - loss: 0.0996 - accuracy: 0.9793\n",
      "Epoch 130/130\n",
      "29/29 [==============================] - 0s 980us/step - loss: 0.1076 - accuracy: 0.9724\n"
     ]
    },
    {
     "data": {
      "text/plain": [
       "<tensorflow.python.keras.callbacks.History at 0x180df14fac8>"
      ]
     },
     "execution_count": 49,
     "metadata": {},
     "output_type": "execute_result"
    }
   ],
   "source": [
    "model.fit(X_train, Y_train, epochs=130, batch_size=5)"
   ]
  },
  {
   "cell_type": "code",
   "execution_count": 51,
   "metadata": {},
   "outputs": [],
   "source": [
    "# # 모델을 컴퓨터에 저장\n",
    "model.save('my_model.h5')  \n",
    "\n",
    "# # 테스트를 위해 메모리 내의 모델을 삭제\n",
    "# del model\n",
    "\n",
    "# # 모델을 새로 불러옴\n",
    "# model = load_model('my_model.h5') "
   ]
  },
  {
   "cell_type": "code",
   "execution_count": null,
   "metadata": {},
   "outputs": [],
   "source": []
  }
 ],
 "metadata": {
  "kernelspec": {
   "display_name": "Python 3",
   "language": "python",
   "name": "python3"
  },
  "language_info": {
   "codemirror_mode": {
    "name": "ipython",
    "version": 3
   },
   "file_extension": ".py",
   "mimetype": "text/x-python",
   "name": "python",
   "nbconvert_exporter": "python",
   "pygments_lexer": "ipython3",
   "version": "3.7.6"
  },
  "toc": {
   "base_numbering": 1,
   "nav_menu": {},
   "number_sections": false,
   "sideBar": true,
   "skip_h1_title": false,
   "title_cell": "Table of Contents",
   "title_sidebar": "Contents",
   "toc_cell": false,
   "toc_position": {},
   "toc_section_display": true,
   "toc_window_display": false
  }
 },
 "nbformat": 4,
 "nbformat_minor": 4
}
